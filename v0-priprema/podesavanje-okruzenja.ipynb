{
 "cells": [
  {
   "cell_type": "markdown",
   "metadata": {},
   "source": [
    "# PyCharm IDE\n",
    "\n",
    "PyCharm je jedno od mogućih razvojnih okruženja koje možete koristiti za razvoj projekata u Python progarmskom jeziku. Community verziju ovog okruženja možete preuzeti sa https://www.jetbrains.com/pycharm/.\n",
    "\n",
    "Za potrebe razvoja rešenja na ovom predmetu možete koristiti i druga okruženja po vašem izboru, poput VisualStudioCode, Spyder i slično."
   ]
  },
  {
   "cell_type": "markdown",
   "metadata": {},
   "source": [
    "# Virtuelna okruženja\n",
    "\n",
    "Python, kao i većina modernih programskih jezika, ima svoje jedinstvene načine za download, čuvanje (storing), i razrešenje (resolving) paketa/modula. Kada instalirate python na svoju mašinu, on će biti u jednom direktorijumu sa skupom svih paketa koji idu uz njega. Ovu Python instancu možete posmatrati kao default sistemsku instancu python-a. \n",
    "\n",
    "Zamislite situaciju u kojoj istovremeno radite na dva različita projekta, gde svaki od projekata ima svoje verzije biblioteka (recimo, jedan projekat zahteva openCV 2.0, a drugi zahteva openCV 3.0). U tom slučaju ćemo imati problem ukoliko oba projekta treba da rade sa istom instancom python okruženja. Zbog toga se uvodi pojam **virtuelnih okruženja**.\n",
    "\n",
    "![venv](images/venv.png \"Virtual environments\")\n",
    "\n",
    "Osnovna namena Python virtuelnih okruženja jeste da kreiraju **izolovana okruženja** za svaki python projekat, sa ličnim skupom paketa (instaliranih modula) za svaki projekat. Ovo znači da svaki projekat ima svoj skup dependency-a, bez obzira na to šta imaju drugi projekti."
   ]
  },
  {
   "cell_type": "markdown",
   "metadata": {},
   "source": [
    "# Anaconda\n",
    "\n",
    "<a href=\"https://www.anaconda.com/distribution/\">Anaconda Distribution</a> predstavlja *open source* distribuciju za najbrži i najlakši rad sa *AI*-om i *Data Science*-om u programskim jezicima *R* i *Python* na *Linux*, *Windows* i *MacOS*  operativnim sistemima. Predstavlja industrijski standard za razvoj, testiranje i trening na jednom računaru. Anakonda dolazi sa svojom python instancom i omogućava i rad sa virtuelnim okruženjima. "
   ]
  },
  {
   "cell_type": "markdown",
   "metadata": {},
   "source": [
    "## Instalacija\n",
    "\n",
    "Za potrebe ovog kursa potrebno je instalirati najnoviju **Anaconda sa Python 3.7** distribuciju.  \n",
    "Potrebno je sa sledećeg <a href=\"https://www.anaconda.com/distribution/\">linka</a> preuzeti odgovarajući fajl za željeni operativni sistem (npr.: za *Linux 64-bit* fajl je: **Anaconda3-X.Y.Z-Linux-x86_64.sh**) i pratiti uputstva za instalaciju koja se mogu pronaći <a href=\"http://docs.anaconda.com/anaconda/install/\">ovde</a>.  \n",
    "\n",
    "Instalacija se može verifikovati pomoću: \n",
    "```console\n",
    "conda --version\n",
    "```\n",
    "Ukoliko je instalacija bila uspešna, dobiće se ispis oblika: **conda x.y.z**.\n",
    "\n",
    "Alternativni načini za instalaciju *Anaconda*-e sa *Python 3.6* se mogu pronaći <a href=\"http://docs.anaconda.com/anaconda/faq/#id4\">ovde</a>.\n",
    "\n",
    "Spisak dostupnih paketa se nalazi <a href=\"https://docs.anaconda.com/anaconda/packages/pkg-docs/\">ovde</a>.\n"
   ]
  },
  {
   "cell_type": "markdown",
   "metadata": {},
   "source": [
    "## Conda  \n",
    "\n",
    "Distribucija uključuje <a href=\"https://conda.io/docs/index.html\">Conda Data Science Package & Environment Manager</a> koji  \n",
    "omogućava laku instalaciju i održavanje preko 1400 *Python* i *R* paketa. *Conda* omogućava olakšan rad sa okruženjima na računaru.\n",
    "\n",
    "### Kreiranje okruženja za nedeljne izazove \n",
    "\n",
    "Okruženje za nedeljni izazov možete kreirati na neki od sledećih načina:\n",
    "\n",
    "#### Način 1 - kreiranje iz yml fajla\n",
    "\n",
    "Conda omogućava export specifikacije virtuelnog okruženja u YML fajl, koji se kasnije može koristiti za repliciranje identičnog okruženja na različitim mašinama. Uz nedeljni izazov će biti dodata i specifikacija virtuelnog okruženja koje je potrebno za njegovu realizaciju. \n",
    "\n",
    "Da bi se kreiralo virtuelno okruženje pod nazivom *soft-env* na osnovu YML fajla, potrebno je samo pokrenuti sledeću komandu iz foldera u kome se nalazi YML fajl:\n",
    "```console\n",
    "conda env create -f environment.yml -n soft-env\n",
    "```\n",
    "\n",
    "#### Način 2 - ručna kreiranje okruženja i instalacija paketa  \n",
    "\n",
    "Okruženje potrebno za ovaj kurs se kreira na sledeći način (vodite računa da koristite samo dozvoljene biblioteke (definisano pojedinačno za svaki izazov):\n",
    "1. Kreiranje okruženja pod nazivom *soft-env*:\n",
    "```console\n",
    "conda create -n soft-env python=3.6\n",
    "```\n",
    "\n",
    "2. Instalacija dodatnih paketa:  \n",
    "```console\n",
    "conda install -n soft-env -c conda-forge opencv=3.4.1\n",
    "conda install -n soft-env -c anaconda scipy\n",
    "...\n",
    "```\n",
    "\n",
    "    Flag \"-n\" označava ime okruženja (name) u koji će se vršiti instalacija paketa. \"-n soft-env\" govori conda-i da instalira novi paket u virtuelno okruženje pod nazivom soft-env, a ne u default python okruženje (base)\n",
    "\n",
    "    Flag \"-c\" označava kanal (channel) sa koga će conda da preuzme paket i instalira ga. Postoji više online kanala sa kojih se conda snabdeva paketima. Default je anaconda channel, a jedan od često korišćenih je i conda-forge channel. Kada instalirate novi paket, najlakše je pretražiti Anaconda Cloud preko Google-a i doći do lokacije paketa. Recimo, za instalaciju openCV paketa je dovoljno pretražiti google sa \"opencv anaconda cloud\", otvorite zvaničnu stranicu koja bi trebala biti u vrhu rezultata i vidite na kom kanalu se nalazi traženi paket.\n",
    "    \n",
    "\n",
    "3. (opciono) Provera instaliranih paketa:  \n",
    "```console \n",
    "conda list\n",
    "```\n",
    "\n",
    "### Rad sa okruženjem\n",
    "\n",
    "1. Pre početka rada sa paketima u sklopu okruženja, potrebno je aktivirati okruženje:  \n",
    "* *Linux* i *MacOS*:  \n",
    "```console\n",
    "source activate soft-env\n",
    "```  \n",
    "* *Windows*:  \n",
    "u *Anaconda Prompt*-u kucati:  \n",
    "```console \n",
    "activate soft-env\n",
    "```  \n",
    "\n",
    "    Ukoliko u ovom momentu pokrenete instalaciju novog modula putem pip-a (pip install ...), paket će biti instaliran u trenutno aktivnu python instancu, a ne u default sistemsku instancu.\n",
    "    \n",
    "\n",
    "2. Nakon završetka rada, okruženje se deaktivira:  \n",
    "* *Linux* i *MacOS*:  \n",
    "```console\n",
    "source deactivate\n",
    "```  \n",
    "* *Windows*:  \n",
    "u *Anaconda Prompt*-u kucati:  \n",
    "```console\n",
    "deactivate\n",
    "```  \n",
    "\n",
    "Ostatak komandi za rad sa *Conda*-om je dostupan <a href=\"https://conda.io/docs/user-guide/index.html\">ovde</a>."
   ]
  },
  {
   "cell_type": "markdown",
   "metadata": {},
   "source": [
    "## Povezivanje virtuelnog okruženja sa razvojnim okruženjem (PyCharm IDE Community)\n",
    "\n",
    "Ukoliko kao razvojno okruženje koristite PyCharm, da biste pokrenuli python skriptu neophodno je da prethodno podesite Python Interpreter na nivou projekta. Ukoliko na svojoj mašini imate nekoliko virtuelnih okruženja i sistemsku instancu python-a, svaka od ovih instanci može biti poglašena za interpreter na nivou projekta.\n",
    "\n",
    "Da biste podesili interpreter, potebno je da:\n",
    "\n",
    "1. Odete na **File/Settings**\n",
    "2. Odete na **Project:naziv_projekta/Project Interpreter**\n",
    "3. Ukoliko se u dropdown listi nalazi traženo conda okruženje (putanja mu je najverovatnije slična sledećoj \"~/anaconda3/envs/naziv_okruzenja\"), samo ga selektujte i idite na OK. **Često je dovoljno samo restartovati pyCharm nakon kreiranja novog virtuelnog okruženja i malo sačekati da ga PyCharm sam otkrije, pa će se ono samo pojaviti u ovoj dropdown listi.**\n",
    "4. Ukoliko okruženje nije bilo na prethodnoj dropdown listi i ne pojavi se nakon restarta i malo čekanja, kliknite na **Show All**, da biste dobili listu svih dostupnih python instanci u sistemu\n",
    "5. Kliknite na \"+\" za dodavanje novog virtuelnog okruženja.\n",
    "6. U prozoru koji dobijete treba da dodate novo conda okruženje. ![venv](images/condaadd.png \"Adding new conda environment\")\n",
    "\n",
    "7. U zavisnosti od operativnog sistema, okruženja se čuvaju na različitim putanjama. Najčešće je to **\".../[ime_korisnika]/.conda ili anaconda3/envs/[naziv_okruzenja]/bin/python\"**"
   ]
  },
  {
   "cell_type": "code",
   "execution_count": null,
   "metadata": {},
   "outputs": [],
   "source": []
  }
 ],
 "metadata": {
  "kernelspec": {
   "display_name": "Python 3",
   "language": "python",
   "name": "python3"
  },
  "language_info": {
   "codemirror_mode": {
    "name": "ipython",
    "version": 3
   },
   "file_extension": ".py",
   "mimetype": "text/x-python",
   "name": "python",
   "nbconvert_exporter": "python",
   "pygments_lexer": "ipython3",
   "version": "3.7.3"
  }
 },
 "nbformat": 4,
 "nbformat_minor": 2
}
