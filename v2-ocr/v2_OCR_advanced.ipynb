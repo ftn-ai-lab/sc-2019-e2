{
 "cells": [
  {
   "cell_type": "markdown",
   "metadata": {},
   "source": [
    "# Vežbe 2  - OCR teksta"
   ]
  },
  {
   "cell_type": "markdown",
   "metadata": {},
   "source": [
    "Do sada je rađeno optičko prepoznavanje brojeva i matematičkih izraza. Kada je reč o čitanju stvarnog teksta, deo problema predstavlja i određivanje granica između reči i redova u tekstu. Kao rešenje moguće je koristiti K-means algoritam i odrediti razmak između regiona formirajući dve grupe (dva klastera):\n",
    "* Razmak između slova u reči\n",
    "* Razmak između reči"
   ]
  },
  {
   "cell_type": "code",
   "execution_count": 1,
   "metadata": {},
   "outputs": [
    {
     "name": "stderr",
     "output_type": "stream",
     "text": [
      "Using TensorFlow backend.\n"
     ]
    }
   ],
   "source": [
    "from __future__ import print_function\n",
    "#import potrebnih biblioteka\n",
    "import cv2\n",
    "import collections\n",
    "\n",
    "# keras\n",
    "from keras.models import Sequential\n",
    "from keras.layers.core import Dense,Activation\n",
    "from keras.optimizers import SGD\n",
    "\n",
    "#Sklearn biblioteka sa implementiranim K-means algoritmom\n",
    "from sklearn import datasets\n",
    "from sklearn.cluster import KMeans\n",
    "\n",
    "%matplotlib inline\n",
    "import numpy as np\n",
    "import matplotlib.pylab as plt\n",
    "plt.rcParams['figure.figsize'] = 16, 12 # za prikaz većih slika i plotova, zakomentarisati ako nije potrebno"
   ]
  },
  {
   "cell_type": "code",
   "execution_count": 2,
   "metadata": {
    "collapsed": true
   },
   "outputs": [],
   "source": [
    "#Funkcionalnost implementirana u V1\n",
    "def load_image(path):\n",
    "    return cv2.cvtColor(cv2.imread(path), cv2.COLOR_BGR2RGB)\n",
    "def image_gray(image):\n",
    "    return cv2.cvtColor(image, cv2.COLOR_RGB2GRAY)\n",
    "def image_bin(image_gs):\n",
    "    ret,image_bin = cv2.threshold(image_gs, 127, 255, cv2.THRESH_BINARY)\n",
    "    return image_bin\n",
    "def invert(image):\n",
    "    return 255-image\n",
    "def display_image(image, color= False):\n",
    "    if color:\n",
    "        plt.imshow(image)\n",
    "    else:\n",
    "        plt.imshow(image, 'gray')\n",
    "def dilate(image):\n",
    "    kernel = np.ones((3,3)) # strukturni element 3x3 blok\n",
    "    return cv2.dilate(image, kernel, iterations=1)\n",
    "def erode(image):\n",
    "    kernel = np.ones((3,3)) # strukturni element 3x3 blok\n",
    "    return cv2.erode(image, kernel, iterations=1)\n",
    "\n",
    "#Funkcionalnost implementirana u OCR basic\n",
    "def resize_region(region):\n",
    "    resized = cv2.resize(region,(28,28), interpolation = cv2.INTER_NEAREST)\n",
    "    return resized\n",
    "def scale_to_range(image):\n",
    "    return image / 255\n",
    "def matrix_to_vector(image):\n",
    "    return image.flatten()\n",
    "def prepare_for_ann(regions):\n",
    "    ready_for_ann = []\n",
    "    for region in regions:\n",
    "        ready_for_ann.append(matrix_to_vector(scale_to_range(region)))\n",
    "    return ready_for_ann\n",
    "def convert_output(outputs):\n",
    "    return np.eye(len(outputs))\n",
    "def winner(output):\n",
    "    return max(enumerate(output), key=lambda x: x[1])[0]"
   ]
  },
  {
   "cell_type": "markdown",
   "metadata": {},
   "source": [
    "Modifikovati funkciju za određivanje regija od interesa, tako da vraća i vrednosti rastojanja po x osi, između svih regiona."
   ]
  },
  {
   "cell_type": "code",
   "execution_count": 3,
   "metadata": {
    "collapsed": true
   },
   "outputs": [],
   "source": [
    "def select_roi(image_orig, image_bin):\n",
    "    '''\n",
    "    Funkcija kao u vežbi 2, iscrtava pravougaonike na originalnoj slici, pronalazi sortiran niz regiona sa slike,\n",
    "    i dodatno treba da sačuva rastojanja između susednih regiona.\n",
    "    '''\n",
    "    img, contours, hierarchy = cv2.findContours(image_bin.copy(), cv2.RETR_EXTERNAL, cv2.CHAIN_APPROX_SIMPLE)\n",
    "    #Način određivanja kontura je promenjen na spoljašnje konture: cv2.RETR_EXTERNAL\n",
    "    regions_array = []\n",
    "    for contour in contours: \n",
    "        x,y,w,h = cv2.boundingRect(contour)\n",
    "        region = image_bin[y:y+h+1,x:x+w+1];\n",
    "        regions_array.append([resize_region(region), (x,y,w,h)])\n",
    "        cv2.rectangle(image_orig,(x,y),(x+w,y+h),(0,255,0),2)\n",
    "\n",
    "    regions_array = sorted(regions_array, key=lambda item: item[1][0])\n",
    "\n",
    "    sorted_regions = [region[0] for region in regions_array]\n",
    "    sorted_rectangles = [region[1] for region in regions_array]\n",
    "    region_distances = []\n",
    "    # Izdvojiti sortirane parametre opisujućih pravougaonika\n",
    "    # Izračunati rastojanja između svih susednih regiona po x osi i dodati ih u region_distances niz\n",
    "    for index in range(0, len(sorted_rectangles)-1):\n",
    "        current = sorted_rectangles[index]\n",
    "        next_rect = sorted_rectangles[index+1]\n",
    "        distance = next_rect[0] - (current[0]+current[2]) #X_next - (X_current + W_current)\n",
    "        region_distances.append(distance)\n",
    "\n",
    "    return image_orig, sorted_regions, region_distances"
   ]
  },
  {
   "cell_type": "markdown",
   "metadata": {},
   "source": [
    "\n",
    "U odnosu na alfabet prikazan na slici, definisati i obučiti neuronsku mrežu.\n",
    "<img src=\"images/alphabet.png\"></img>"
   ]
  },
  {
   "cell_type": "code",
   "execution_count": 4,
   "metadata": {
    "collapsed": true
   },
   "outputs": [],
   "source": [
    "def create_ann():\n",
    "    '''\n",
    "    Implementirati veštačku neuronsku mrežu sa 28x28 ulaznih neurona i jednim skrivenim slojem od 128 neurona.\n",
    "    Odrediti broj izlaznih neurona. Aktivaciona funkcija je sigmoid.\n",
    "    '''\n",
    "    ann = Sequential()\n",
    "    # Postaviti slojeve neurona mreže 'ann'\n",
    "    ann.add(Dense(128, input_dim=784, activation='sigmoid'))\n",
    "    ann.add(Dense(26, activation='sigmoid'))\n",
    "    return ann\n",
    "    \n",
    "def train_ann(ann, X_train, y_train):\n",
    "    X_train = np.array(X_train, np.float32)\n",
    "    y_train = np.array(y_train, np.float32)\n",
    "   \n",
    "    # definisanje parametra algoritma za obucavanje\n",
    "    sgd = SGD(lr=0.01, momentum=0.9)\n",
    "    ann.compile(loss='mean_squared_error', optimizer=sgd)\n",
    "\n",
    "    # obucavanje neuronske mreze\n",
    "    ann.fit(X_train, y_train, epochs=500, batch_size=1, verbose = 0, shuffle=False) \n",
    "      \n",
    "    return ann"
   ]
  },
  {
   "cell_type": "code",
   "execution_count": 5,
   "metadata": {},
   "outputs": [
    {
     "name": "stdout",
     "output_type": "stream",
     "text": [
      "Broj prepoznatih regiona: 26\n"
     ]
    },
    {
     "data": {
      "image/png": "[encoded data removed]",
      "text/plain": [
       "<matplotlib.figure.Figure at 0x7f44e8f34250>"
      ]
     },
     "metadata": {},
     "output_type": "display_data"
    }
   ],
   "source": [
    "image_color = load_image('images/alphabet.png')\n",
    "img = image_bin(image_gray(image_color))\n",
    "selected_regions, letters, region_distances = select_roi(image_color.copy(), img)\n",
    "display_image(selected_regions)\n",
    "print ('Broj prepoznatih regiona:', len(letters))"
   ]
  },
  {
   "cell_type": "code",
   "execution_count": 6,
   "metadata": {
    "collapsed": true
   },
   "outputs": [],
   "source": [
    "alphabet = ['A','B','C','D','E','F','G','H','I','J','K','L','M','N','O','P','Q','R','S','T','U','V','W','X','Y','Z']\n",
    "inputs = prepare_for_ann(letters)\n",
    "outputs = convert_output(alphabet)\n",
    "ann = create_ann()\n",
    "ann = train_ann(ann, inputs, outputs)"
   ]
  },
  {
   "cell_type": "markdown",
   "metadata": {},
   "source": [
    "##### Iščitavanje pune rečenice.\n",
    "Prvo se učitava slika, i određuju regioni od interesa kao i rastojanje među njima. Nakon toga, određuju se centri\n",
    "dve grupe rastojanja K-means algoritmom."
   ]
  },
  {
   "cell_type": "code",
   "execution_count": 7,
   "metadata": {
    "scrolled": true
   },
   "outputs": [
    {
     "name": "stdout",
     "output_type": "stream",
     "text": [
      "Broj prepoznatih regiona: 22\n"
     ]
    },
    {
     "data": {
      "text/plain": [
       "KMeans(algorithm='auto', copy_x=True, init='k-means++', max_iter=2000,\n",
       "    n_clusters=2, n_init=10, n_jobs=1, precompute_distances='auto',\n",
       "    random_state=None, tol=1e-05, verbose=0)"
      ]
     },
     "execution_count": 7,
     "metadata": {},
     "output_type": "execute_result"
    },
    {
     "data": {
      "image/png": "[encoded data removed]",
      "text/plain": [
       "<matplotlib.figure.Figure at 0x7f44e8c94f50>"
      ]
     },
     "metadata": {},
     "output_type": "display_data"
    }
   ],
   "source": [
    "#Učitavanje slike i određivanje regiona od interesa\n",
    "image_color = load_image('images/LoremIpsum.png')\n",
    "img = image_bin(image_gray(image_color))\n",
    "selected_regions, letters, distances = select_roi(image_color.copy(), img)\n",
    "display_image(selected_regions)\n",
    "print('Broj prepoznatih regiona:', len(letters))\n",
    "\n",
    "#Podešavanje centara grupa K-means algoritmom\n",
    "distances = np.array(distances).reshape(len(distances), 1)\n",
    "#Neophodno je da u K-means algoritam bude prosleđena matrica u kojoj vrste određuju elemente\n",
    "\n",
    "k_means = KMeans(n_clusters=2, max_iter=2000, tol=0.00001, n_init=10)\n",
    "k_means.fit(distances)"
   ]
  },
  {
   "cell_type": "markdown",
   "metadata": {},
   "source": [
    "Potrebno je promeniti funkciju za prikaz rezultata da detektuje i razmake"
   ]
  },
  {
   "cell_type": "code",
   "execution_count": 8,
   "metadata": {
    "collapsed": true
   },
   "outputs": [],
   "source": [
    "def display_result(outputs, alphabet, k_means):\n",
    "    '''\n",
    "    Funkcija određuje koja od grupa predstavlja razmak između reči, a koja između slova, i na osnovu\n",
    "    toga formira string od elemenata pronađenih sa slike.\n",
    "    Args:\n",
    "        outputs: niz izlaza iz neuronske mreže.\n",
    "        alphabet: niz karaktera koje je potrebno prepoznati\n",
    "        kmeans: obučen kmeans objekat\n",
    "    Return:\n",
    "        Vraća formatiran string\n",
    "    '''\n",
    "    # Odrediti indeks grupe koja odgovara rastojanju između reči, pomoću vrednosti iz k_means.cluster_centers_\n",
    "    w_space_group = max(enumerate(k_means.cluster_centers_), key = lambda x: x[1])[0]\n",
    "    result = alphabet[winner(outputs[0])]\n",
    "    for idx, output in enumerate(outputs[1:,:]):\n",
    "        # Iterativno dodavati prepoznate elemente kao u vežbi 2, alphabet[winner(output)]\n",
    "        # Dodati space karakter u slučaju da odgovarajuće rastojanje između dva slova odgovara razmaku između reči.\n",
    "        # U ovu svrhu, koristiti atribut niz k_means.labels_ koji sadrži sortirana rastojanja između susednih slova.\n",
    "        if (k_means.labels_[idx] == w_space_group):\n",
    "            result += ' '\n",
    "        result += alphabet[winner(output)]\n",
    "    return result"
   ]
  },
  {
   "cell_type": "markdown",
   "metadata": {},
   "source": [
    "# Izvršavanje predikcije"
   ]
  },
  {
   "cell_type": "code",
   "execution_count": 9,
   "metadata": {},
   "outputs": [
    {
     "name": "stdout",
     "output_type": "stream",
     "text": [
      "LOREM IPSUM DOLOR SIT AMET\n"
     ]
    }
   ],
   "source": [
    "inputs = prepare_for_ann(letters)\n",
    "results = ann.predict(np.array(inputs, np.float32))\n",
    "print(display_result(results, alphabet, k_means))"
   ]
  },
  {
   "cell_type": "markdown",
   "metadata": {},
   "source": [
    "# Dodatak - Fazi poređenje stringova\n",
    "\n",
    "Poređenje stringova je pojam koji nam je poznat od ranije. Međutim, šta raditi u sledećoj situaciji:\n",
    "\n",
    "- (\"Pera Peric\" == \"Pera Peric\")         [**True**]\n",
    "- (\"Pera Peric\" == \"Pera Perić\")         [**False**]\n",
    "- (\"P. Peric\" == \"Pera Peric\")           [**False**]\n",
    "\n",
    "Klasično poređenje stringova u ovakvim situacijama nije dovoljno dobro. U tom slučaju bi bilo idealno **modelovati poređenje u prostoru neodređenosti, odnosno u fazi (engl. fuzzy) prostoru**.\n",
    "\n",
    "## Fazi logika - osnove\n",
    "\n",
    "- Na primer, brojevi u fazi logici bi bili opisani na neodređen način. Fazi broj sedam bi bio opisan kao **\"oko sedam\"** i grafički bi se mogao prikazati na sledeći način:\n",
    "<img src=\"images/fuzzy_number.png\">\n",
    "\n",
    "U ovom slučaju, \"oko sedam\" može biti i broj 6.65, 6.99, 7.01, kao i 7.8. To je opisano tzv. funkcijom pripadnosti. Što smo dalje od broja sedam, time je vrednost funkcije pripadnosti niža.\n",
    "\n",
    "- Skupovi su takođe definisani u fazi logici. U tom slučaju element skupa ne mora biti isključivo \"element skupa\" ili \"nije element skupa\". Element skupa u fazi logici može biti u nekoj meri element skupa, a u nekoj drugoj meri element nekog drugog skupa.\n",
    "- Poređenje stringova u fazi logici bi bilo ekvivalentno računanju sličnosti između dva stringa. Oni ne moraju biti jednaki, ali mogu biti \"skoro jednaki\" ili \"u nekoj meri jednaki\", čime njihovu jednakost modelujemo u fazi logici.\n"
   ]
  },
  {
   "cell_type": "markdown",
   "metadata": {
    "collapsed": true
   },
   "source": [
    "## Levenštajn rastojanje (engl. Levenstein distance)\n",
    "\n",
    "\n",
    "Levenštajnovo rastojanje dva stringa je određeno minimalnim brojem operacija neophodnim da se jedan string transformiše u drugi. Operacije su:\n",
    "- umetanje, \n",
    "- brisanje \n",
    "- zamena jednog karaktera drugim. \n",
    "\n",
    "Dobilo je ime po Vladimiru Levenštajnu, koji ga je razvio 1965. Levenštajnovo rastojanje je korisno u određivanju sličnosti dva stringa, na primer u softveru za pronalaženje grešaka u kucanju.\n",
    "\n",
    "Na primer, Levenštajnovo rastojanje reči \"kitten\" i \"sitting\" je 3, jer su potrebne najmanje tri operacije izmene da se jedna reč transformiše u drugu:\n",
    "\n",
    "    kitten → sitten (zamena 's' sa 'k')\n",
    "    sitten → sittin (zamena 'i' sa 'e')\n",
    "    sittin → sitting (umetanje 'g' na kraj)\n",
    "    \n",
    "Primer računanja sličnosti stringova \"**flaw**\" i \"**lawn**\" je prikazano na narednoj šemi:\n",
    "    \n",
    "<img src=\"images/levenshtein_distance_matrix.png\">\n",
    "\n",
    "Ono što je ključno jeste nalaženje **minimalnog skupa operacija koje je potrebno primeniti**. To se postiže tako što u svakom koraku težite da izaberete najnižu vrednost od sve tri moguće operacije (**zamena** (dijagonala), **brisanje** (gore na dole) ili **umetanje** (levo na desno) ) i da dodate +1 ukoliko je potrebno primeniti neku od njih.\n",
    "\n",
    "U prethodnom primeru su potrebne dve operacije da bi se od jednog stringa dobio drugi. Još jedan detaljan primer možete naći na sledećem <a href=\"https://github.com/trekhleb/javascript-algorithms/tree/master/src/algorithms/string/levenshtein-distance\">linku</a>."
   ]
  },
  {
   "cell_type": "markdown",
   "metadata": {},
   "source": [
    "## Levenstein rastojanje u Python-u\n",
    "\n",
    "Za pronalaženje Levenstein rastojanja dva stringa u Python-u možete koristiti biblioteku **fuzzywuzzy**, a njenu detaljnu dokumentaciju možete pronaći na sledećem <a href=\"https://github.com/seatgeek/fuzzywuzzy\">linku</a>, a tutorial na sledećem <a href=\"https://www.datacamp.com/community/tutorials/fuzzy-string-python\">linku</a>"
   ]
  },
  {
   "cell_type": "code",
   "execution_count": 8,
   "metadata": {},
   "outputs": [
    {
     "data": {
      "text/plain": [
       "86"
      ]
     },
     "execution_count": 8,
     "metadata": {},
     "output_type": "execute_result"
    }
   ],
   "source": [
    "from fuzzywuzzy import fuzz\n",
    "\n",
    "fuzz.ratio(\"Pera Peric\", \"Petar Peric\")"
   ]
  },
  {
   "cell_type": "markdown",
   "metadata": {},
   "source": [
    "Kao što možete primetiti, prethodna komanda vraća broj u intervalu [0, 100] koji predstavlja sličnost dva stringa. Da bi se od Levenstein rastojanja dobila sličnost, primenjena je sledeća formula:\n",
    "\n",
    "<img src=\"images/levenstein_ratio.png\"/>\n",
    "\n",
    "Sličnost i rastojanje su dva suprotna pojma. Ako su dva stringa identična, njihovo rastojanje je jednako 0, ali im je sličnost maksimalna, odnosno 100."
   ]
  },
  {
   "cell_type": "code",
   "execution_count": null,
   "metadata": {},
   "outputs": [],
   "source": []
  }
 ],
 "metadata": {
  "anaconda-cloud": {},
  "kernelspec": {
   "display_name": "Python 3",
   "language": "python",
   "name": "python3"
  },
  "language_info": {
   "codemirror_mode": {
    "name": "ipython",
    "version": 3
   },
   "file_extension": ".py",
   "mimetype": "text/x-python",
   "name": "python",
   "nbconvert_exporter": "python",
   "pygments_lexer": "ipython3",
   "version": "3.6.4"
  }
 },
 "nbformat": 4,
 "nbformat_minor": 1
}
